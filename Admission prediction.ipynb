{
 "cells": [
  {
   "cell_type": "markdown",
   "metadata": {},
   "source": [
    "### WEEK 1 ASSIGNMENT (PREDICTIVE ANALYTICS ALY 6020)\n",
    "### NAME: SHWETANJALI DORA"
   ]
  },
  {
   "cell_type": "markdown",
   "metadata": {},
   "source": [
    "### DESCRIPTION OF THE DATASET:\n",
    "  \n",
    "#### The dataset contains several parameters which are considered important during the application for Masters Programs. The parameters included are:\n",
    "\n",
    "* GRE Scores ( out of 340 )\n",
    "* TOEFL Scores ( out of 120 )\n",
    "* University Rating ( out of 5 )\n",
    "* Statement of Purpose and Letter of Recommendation Strength ( out of 5 )\n",
    "* Undergraduate GPA ( out of 10 )\n",
    "* Chance of Admit: \n",
    "                   A= 90-100% chance of admission\n",
    "                   B= 80-90% chance of admission\n",
    "                   C= 70-80% chance of admission\n",
    "                   D= 60-70% chance of admission\n",
    "                   E= 50-60% chance of admission\n",
    "                   F= 40-50% chance of admission"
   ]
  },
  {
   "cell_type": "markdown",
   "metadata": {},
   "source": [
    "### KNN(K Nearest Neighbors)\n",
    "* KNN is k nearest neighbors algorithm. It is a non-parametric supervised learning technique which can be used for classification and regression problems but mostly for classification problems. \n",
    "* The biggest use case of k-NN in real time is Recommender Systems. If we know a user likes a particular item, then you can recommend similar items for them. \n",
    "* Some other use-cases of KNN algorithm are face recognition,prediction of heart diseases etc. \n",
    "* It is also called the lazy algorithm because it doesn’t learn a discriminative function from the training data but memorizes the training dataset.\n",
    "\n",
    "\n",
    "**KNN for classification**: To understand how a KNN algorithm works for classification problem let us consider one class of similar objects(A) and another class of similar objects(B). Now if we have a new object and we want to predict the class which this new object belongs to with a K value of 7. Now we draw a circle around the new object considering 7 neighbors. If maximum neighbors are from class A then we consider the new object to be class A item otherwise a class B item.\n",
    "\n",
    "\n",
    "**KNN for regression**: For applying the KNN algorithm to regression we compute the distance between query example to the labeled examples and order labeled examples by distance. We usually use Euclidean, Manhattan or Minkowski distance for continuous variables and Hamming distance for categorical variables.\n",
    "\n",
    "**Euclidean Distance=** dist((x, y), (a, b)) = √(x - a)² + (y - b)²\n",
    "\n",
    "**Manhattan Distance=** ∑𝑖|𝑎𝑖−𝑏𝑖|\n",
    "\n",
    "**Minkowski Distance=** (∑i=1n|Xi−Yi|p)1/p\n",
    "\n",
    "\n",
    "\n",
    "\n",
    "\n",
    "\n"
   ]
  },
  {
   "cell_type": "markdown",
   "metadata": {},
   "source": [
    "### STEP 1: Loading the data\n",
    "* Let’s start by loading the required modules to start our project\n",
    "* I will be using numpy, pandas, seaborn and matplotlib initially\n",
    "* Then we will read the admissions dataset in a pandas DataFrame with read_csv()"
   ]
  },
  {
   "cell_type": "code",
   "execution_count": 106,
   "metadata": {},
   "outputs": [],
   "source": [
    "#data extraction\n",
    "\n",
    "#importing required libraries\n",
    "import pandas as pd\n",
    "import numpy as np\n",
    "import matplotlib.pyplot as plt\n",
    "import seaborn as sns\n",
    "\n",
    "\n",
    "#read googleplaystore.csv file\n",
    "data=pd.read_csv('gre.csv',delimiter=',')\n",
    "\n",
    "#converting into a dataframe\n",
    "df=pd.DataFrame(data)\n"
   ]
  },
  {
   "cell_type": "markdown",
   "metadata": {},
   "source": [
    "#### Display head of the data frame\n",
    "* Before we go further, it is always good to have a look at the various columns and what kind of attributes are present in the data so that we could get a rough idea on how to begin.\n",
    "* For this action to be performed we use the **.head()** function of pandas"
   ]
  },
  {
   "cell_type": "code",
   "execution_count": 107,
   "metadata": {},
   "outputs": [
    {
     "data": {
      "text/html": [
       "<div>\n",
       "<style scoped>\n",
       "    .dataframe tbody tr th:only-of-type {\n",
       "        vertical-align: middle;\n",
       "    }\n",
       "\n",
       "    .dataframe tbody tr th {\n",
       "        vertical-align: top;\n",
       "    }\n",
       "\n",
       "    .dataframe thead th {\n",
       "        text-align: right;\n",
       "    }\n",
       "</style>\n",
       "<table border=\"1\" class=\"dataframe\">\n",
       "  <thead>\n",
       "    <tr style=\"text-align: right;\">\n",
       "      <th></th>\n",
       "      <th>Serial No.</th>\n",
       "      <th>GRE Score</th>\n",
       "      <th>TOEFL Score</th>\n",
       "      <th>University Rating</th>\n",
       "      <th>SOP</th>\n",
       "      <th>LOR</th>\n",
       "      <th>CGPA</th>\n",
       "      <th>Chance of Admit</th>\n",
       "    </tr>\n",
       "  </thead>\n",
       "  <tbody>\n",
       "    <tr>\n",
       "      <th>0</th>\n",
       "      <td>1</td>\n",
       "      <td>337</td>\n",
       "      <td>118</td>\n",
       "      <td>4</td>\n",
       "      <td>4.5</td>\n",
       "      <td>4.5</td>\n",
       "      <td>9.65</td>\n",
       "      <td>A</td>\n",
       "    </tr>\n",
       "    <tr>\n",
       "      <th>1</th>\n",
       "      <td>2</td>\n",
       "      <td>324</td>\n",
       "      <td>107</td>\n",
       "      <td>4</td>\n",
       "      <td>4.0</td>\n",
       "      <td>4.5</td>\n",
       "      <td>8.87</td>\n",
       "      <td>C</td>\n",
       "    </tr>\n",
       "    <tr>\n",
       "      <th>2</th>\n",
       "      <td>3</td>\n",
       "      <td>316</td>\n",
       "      <td>104</td>\n",
       "      <td>3</td>\n",
       "      <td>3.0</td>\n",
       "      <td>3.5</td>\n",
       "      <td>8.00</td>\n",
       "      <td>C</td>\n",
       "    </tr>\n",
       "    <tr>\n",
       "      <th>3</th>\n",
       "      <td>4</td>\n",
       "      <td>322</td>\n",
       "      <td>110</td>\n",
       "      <td>3</td>\n",
       "      <td>3.5</td>\n",
       "      <td>2.5</td>\n",
       "      <td>8.67</td>\n",
       "      <td>B</td>\n",
       "    </tr>\n",
       "    <tr>\n",
       "      <th>4</th>\n",
       "      <td>5</td>\n",
       "      <td>314</td>\n",
       "      <td>103</td>\n",
       "      <td>2</td>\n",
       "      <td>2.0</td>\n",
       "      <td>3.0</td>\n",
       "      <td>8.21</td>\n",
       "      <td>D</td>\n",
       "    </tr>\n",
       "  </tbody>\n",
       "</table>\n",
       "</div>"
      ],
      "text/plain": [
       "   Serial No.  GRE Score  TOEFL Score  University Rating  SOP  LOR   CGPA  \\\n",
       "0           1        337          118                  4  4.5   4.5  9.65   \n",
       "1           2        324          107                  4  4.0   4.5  8.87   \n",
       "2           3        316          104                  3  3.0   3.5  8.00   \n",
       "3           4        322          110                  3  3.5   2.5  8.67   \n",
       "4           5        314          103                  2  2.0   3.0  8.21   \n",
       "\n",
       "  Chance of Admit   \n",
       "0                A  \n",
       "1                C  \n",
       "2                C  \n",
       "3                B  \n",
       "4                D  "
      ]
     },
     "execution_count": 107,
     "metadata": {},
     "output_type": "execute_result"
    }
   ],
   "source": [
    "#print head of the data frame\n",
    "df.head(5)\n"
   ]
  },
  {
   "cell_type": "markdown",
   "metadata": {},
   "source": [
    "Now based on the above result, we can classify the various data columns into numerical/categorical attributes:\n",
    "* Numerical Attributes: GRE score, TOEFL score, University rating, SOP, LOR, CGPA\n",
    "* Categorical Attributes: Chance of Admit"
   ]
  },
  {
   "cell_type": "markdown",
   "metadata": {},
   "source": [
    "#### Encoding Categorical Data\n",
    "* In the following data set the Chance of Admit column is categorical as it has 6 categories ie., A,B,C,D,E,F which represent the chance of being admitted into a University. This column has to be encoded. Let's start with the most basic method, which is just replacing the categories with the desired numbers. This can be achieved with the help of the replace() function in pandas. \n",
    "\n",
    "\n",
    "* We give values from 0-5 respectively to A,B,C,D,E,F.\n"
   ]
  },
  {
   "cell_type": "code",
   "execution_count": 108,
   "metadata": {},
   "outputs": [],
   "source": [
    "#encoding of categorical data using replace() function\n",
    "replace_map = {'Chance of Admit ': {'A': 0, 'B': 1,'C':2,'D':3,'E':4,'F':5}}\n",
    "df.replace(replace_map, inplace=True)\n"
   ]
  },
  {
   "cell_type": "markdown",
   "metadata": {},
   "source": [
    "####  Determine the shape of the dataset (number of rows and columns)"
   ]
  },
  {
   "cell_type": "code",
   "execution_count": 109,
   "metadata": {},
   "outputs": [
    {
     "data": {
      "text/html": [
       "<div>\n",
       "<style scoped>\n",
       "    .dataframe tbody tr th:only-of-type {\n",
       "        vertical-align: middle;\n",
       "    }\n",
       "\n",
       "    .dataframe tbody tr th {\n",
       "        vertical-align: top;\n",
       "    }\n",
       "\n",
       "    .dataframe thead th {\n",
       "        text-align: right;\n",
       "    }\n",
       "</style>\n",
       "<table border=\"1\" class=\"dataframe\">\n",
       "  <thead>\n",
       "    <tr style=\"text-align: right;\">\n",
       "      <th></th>\n",
       "      <th>Serial No.</th>\n",
       "      <th>GRE Score</th>\n",
       "      <th>TOEFL Score</th>\n",
       "      <th>SOP</th>\n",
       "      <th>LOR</th>\n",
       "      <th>CGPA</th>\n",
       "      <th>Chance of Admit</th>\n",
       "    </tr>\n",
       "  </thead>\n",
       "  <tbody>\n",
       "    <tr>\n",
       "      <th>0</th>\n",
       "      <td>1</td>\n",
       "      <td>337</td>\n",
       "      <td>118</td>\n",
       "      <td>4.5</td>\n",
       "      <td>4.5</td>\n",
       "      <td>9.65</td>\n",
       "      <td>0</td>\n",
       "    </tr>\n",
       "    <tr>\n",
       "      <th>1</th>\n",
       "      <td>2</td>\n",
       "      <td>324</td>\n",
       "      <td>107</td>\n",
       "      <td>4.0</td>\n",
       "      <td>4.5</td>\n",
       "      <td>8.87</td>\n",
       "      <td>2</td>\n",
       "    </tr>\n",
       "    <tr>\n",
       "      <th>2</th>\n",
       "      <td>3</td>\n",
       "      <td>316</td>\n",
       "      <td>104</td>\n",
       "      <td>3.0</td>\n",
       "      <td>3.5</td>\n",
       "      <td>8.00</td>\n",
       "      <td>2</td>\n",
       "    </tr>\n",
       "    <tr>\n",
       "      <th>3</th>\n",
       "      <td>4</td>\n",
       "      <td>322</td>\n",
       "      <td>110</td>\n",
       "      <td>3.5</td>\n",
       "      <td>2.5</td>\n",
       "      <td>8.67</td>\n",
       "      <td>1</td>\n",
       "    </tr>\n",
       "    <tr>\n",
       "      <th>4</th>\n",
       "      <td>5</td>\n",
       "      <td>314</td>\n",
       "      <td>103</td>\n",
       "      <td>2.0</td>\n",
       "      <td>3.0</td>\n",
       "      <td>8.21</td>\n",
       "      <td>3</td>\n",
       "    </tr>\n",
       "  </tbody>\n",
       "</table>\n",
       "</div>"
      ],
      "text/plain": [
       "   Serial No.  GRE Score  TOEFL Score  SOP  LOR   CGPA  Chance of Admit \n",
       "0           1        337          118  4.5   4.5  9.65                 0\n",
       "1           2        324          107  4.0   4.5  8.87                 2\n",
       "2           3        316          104  3.0   3.5  8.00                 2\n",
       "3           4        322          110  3.5   2.5  8.67                 1\n",
       "4           5        314          103  2.0   3.0  8.21                 3"
      ]
     },
     "execution_count": 109,
     "metadata": {},
     "output_type": "execute_result"
    }
   ],
   "source": [
    "#shape of the dataset\n",
    "df.shape\n",
    "df.drop(columns=['University Rating']).head()\n"
   ]
  },
  {
   "cell_type": "markdown",
   "metadata": {},
   "source": [
    "#### RESULT: We observe that the data set has 400 candidates details."
   ]
  },
  {
   "cell_type": "markdown",
   "metadata": {},
   "source": [
    "### Changing column names for convinence\n",
    "* We change the column names according to our convinence. \n",
    "* Sometimes the column names have white spaces which are unnecessary so we change them."
   ]
  },
  {
   "cell_type": "code",
   "execution_count": 110,
   "metadata": {},
   "outputs": [
    {
     "data": {
      "text/html": [
       "<div>\n",
       "<style scoped>\n",
       "    .dataframe tbody tr th:only-of-type {\n",
       "        vertical-align: middle;\n",
       "    }\n",
       "\n",
       "    .dataframe tbody tr th {\n",
       "        vertical-align: top;\n",
       "    }\n",
       "\n",
       "    .dataframe thead th {\n",
       "        text-align: right;\n",
       "    }\n",
       "</style>\n",
       "<table border=\"1\" class=\"dataframe\">\n",
       "  <thead>\n",
       "    <tr style=\"text-align: right;\">\n",
       "      <th></th>\n",
       "      <th>id</th>\n",
       "      <th>gre</th>\n",
       "      <th>toefl</th>\n",
       "      <th>rating</th>\n",
       "      <th>sop</th>\n",
       "      <th>lor</th>\n",
       "      <th>cgpa</th>\n",
       "      <th>admit</th>\n",
       "    </tr>\n",
       "  </thead>\n",
       "  <tbody>\n",
       "    <tr>\n",
       "      <th>0</th>\n",
       "      <td>1</td>\n",
       "      <td>337</td>\n",
       "      <td>118</td>\n",
       "      <td>4</td>\n",
       "      <td>4.5</td>\n",
       "      <td>4.5</td>\n",
       "      <td>9.65</td>\n",
       "      <td>0</td>\n",
       "    </tr>\n",
       "    <tr>\n",
       "      <th>1</th>\n",
       "      <td>2</td>\n",
       "      <td>324</td>\n",
       "      <td>107</td>\n",
       "      <td>4</td>\n",
       "      <td>4.0</td>\n",
       "      <td>4.5</td>\n",
       "      <td>8.87</td>\n",
       "      <td>2</td>\n",
       "    </tr>\n",
       "    <tr>\n",
       "      <th>2</th>\n",
       "      <td>3</td>\n",
       "      <td>316</td>\n",
       "      <td>104</td>\n",
       "      <td>3</td>\n",
       "      <td>3.0</td>\n",
       "      <td>3.5</td>\n",
       "      <td>8.00</td>\n",
       "      <td>2</td>\n",
       "    </tr>\n",
       "    <tr>\n",
       "      <th>3</th>\n",
       "      <td>4</td>\n",
       "      <td>322</td>\n",
       "      <td>110</td>\n",
       "      <td>3</td>\n",
       "      <td>3.5</td>\n",
       "      <td>2.5</td>\n",
       "      <td>8.67</td>\n",
       "      <td>1</td>\n",
       "    </tr>\n",
       "    <tr>\n",
       "      <th>4</th>\n",
       "      <td>5</td>\n",
       "      <td>314</td>\n",
       "      <td>103</td>\n",
       "      <td>2</td>\n",
       "      <td>2.0</td>\n",
       "      <td>3.0</td>\n",
       "      <td>8.21</td>\n",
       "      <td>3</td>\n",
       "    </tr>\n",
       "  </tbody>\n",
       "</table>\n",
       "</div>"
      ],
      "text/plain": [
       "   id  gre  toefl  rating  sop  lor  cgpa  admit\n",
       "0   1  337    118       4  4.5  4.5  9.65      0\n",
       "1   2  324    107       4  4.0  4.5  8.87      2\n",
       "2   3  316    104       3  3.0  3.5  8.00      2\n",
       "3   4  322    110       3  3.5  2.5  8.67      1\n",
       "4   5  314    103       2  2.0  3.0  8.21      3"
      ]
     },
     "execution_count": 110,
     "metadata": {},
     "output_type": "execute_result"
    }
   ],
   "source": [
    "#changing the column names\n",
    "df= df.rename(columns={'Serial No.':'id',\n",
    "                               'GRE Score':'gre',\n",
    "                               'TOEFL Score':'toefl',\n",
    "                               'University Rating':'rating',\n",
    "                               'SOP':'sop',\n",
    "                               'LOR ':'lor',\n",
    "                               'CGPA':'cgpa',\n",
    "                               'Chance of Admit ':'admit'})\n",
    "\n",
    "df.head(5)"
   ]
  },
  {
   "cell_type": "markdown",
   "metadata": {},
   "source": [
    "### Checking for missing values\n",
    "There are a few things we always need to check when it comes to data quality. One of them is missing values.\n",
    "* **Missing Values:** There might be some missing values in the data. A good practice is to replace the missing values by median of the column or we could just drop these rows if they are not huge in number.\n",
    "* For checking the presence of null values we use **.isnull()** function of pandas"
   ]
  },
  {
   "cell_type": "code",
   "execution_count": 76,
   "metadata": {},
   "outputs": [
    {
     "data": {
      "text/plain": [
       "Serial No.           0\n",
       "GRE Score            0\n",
       "TOEFL Score          0\n",
       "University Rating    0\n",
       "SOP                  0\n",
       "LOR                  0\n",
       "CGPA                 0\n",
       "Chance of Admit      0\n",
       "dtype: int64"
      ]
     },
     "execution_count": 76,
     "metadata": {},
     "output_type": "execute_result"
    }
   ],
   "source": [
    "df.isnull().sum()"
   ]
  },
  {
   "cell_type": "markdown",
   "metadata": {},
   "source": [
    "### RESULT: We observe that there are no missing values in the dataset"
   ]
  },
  {
   "cell_type": "markdown",
   "metadata": {},
   "source": [
    "### Determining the data types of each attribute\n",
    "* Before going further, first let us have a look at the data type of each column\n",
    "* If the data type is incorrect we need to change it"
   ]
  },
  {
   "cell_type": "code",
   "execution_count": 77,
   "metadata": {},
   "outputs": [
    {
     "data": {
      "text/plain": [
       "Serial No.             int64\n",
       "GRE Score              int64\n",
       "TOEFL Score            int64\n",
       "University Rating      int64\n",
       "SOP                  float64\n",
       "LOR                  float64\n",
       "CGPA                 float64\n",
       "Chance of Admit        int64\n",
       "dtype: object"
      ]
     },
     "execution_count": 77,
     "metadata": {},
     "output_type": "execute_result"
    }
   ],
   "source": [
    "df.dtypes"
   ]
  },
  {
   "cell_type": "markdown",
   "metadata": {},
   "source": [
    "**All the data types are correctly specified. So we can go to the next step**"
   ]
  },
  {
   "cell_type": "markdown",
   "metadata": {},
   "source": [
    "### Features and Targets\n",
    "**Features**:A feature is an individual measurable property or characteristic of a phenomenon being observed\n",
    "\n",
    "**Targets**: The “target variable” is the variable whose values are to be modeled and predicted by other variables\n",
    "\n",
    "In this problem, we are predicting the chance of a candidate being admitted based on the GRE,TOEFL,SOP,LOR and CGPA score.This means that the feature variables are the values that we use(GRE,TOEFL,SOP,LOR and CGPA ) to predict the target variable(Chance of admission)."
   ]
  },
  {
   "cell_type": "code",
   "execution_count": 78,
   "metadata": {},
   "outputs": [],
   "source": [
    "import numpy as np  \n",
    "import matplotlib.pyplot as plt "
   ]
  },
  {
   "cell_type": "markdown",
   "metadata": {},
   "source": [
    "### STEP 2: Choosing the feature and target variables"
   ]
  },
  {
   "cell_type": "code",
   "execution_count": 79,
   "metadata": {},
   "outputs": [],
   "source": [
    "#feature variable\n",
    "X = df1.iloc[:, 1:-1].values  \n",
    "\n",
    "#target variable\n",
    "y = df1.iloc[:, 7].values  \n"
   ]
  },
  {
   "cell_type": "markdown",
   "metadata": {},
   "source": [
    "### STEP 3: Training data and testing data\n",
    "The given data set is to be split into two subsets called training data and testing data.\n",
    "\n",
    "**Training data** is the data set which is already labeled and is used to train a model.\n",
    "\n",
    "**Testing data** is the data set which has to be labeled and a used to test the trained model.\n",
    "\n",
    "* In python, we use the sklearn.model_selection.train_test_split() to split the arrays or matrices into random train and test subsets\n",
    "\n",
    "* test_size=0.30 means that 30% of the data hass been assigned as test data and 70% as training data"
   ]
  },
  {
   "cell_type": "code",
   "execution_count": 80,
   "metadata": {},
   "outputs": [],
   "source": [
    "#splitting data into training and testing subsets(70:30 ratio)\n",
    "from sklearn.model_selection import train_test_split  \n",
    "X_train, X_test, y_train, y_test = train_test_split(X, y, test_size=0.30)"
   ]
  },
  {
   "cell_type": "markdown",
   "metadata": {},
   "source": [
    "* Standardization of a dataset is a common requirement for many machine learning estimators otherwise they might behave badly if the individual features do not more or less look like standard normally distributed data. \n",
    "* StandardScaler in python is used to standardize features by removing the mean and scaling to unit variance."
   ]
  },
  {
   "cell_type": "code",
   "execution_count": 81,
   "metadata": {},
   "outputs": [],
   "source": [
    "#standardization of the dataset\n",
    "from sklearn.preprocessing import StandardScaler  \n",
    "scaler = StandardScaler()  \n",
    "scaler.fit(X_train)\n",
    "\n",
    "X_train = scaler.transform(X_train)  \n",
    "X_test = scaler.transform(X_test) "
   ]
  },
  {
   "cell_type": "markdown",
   "metadata": {},
   "source": [
    "* sklearn.neighbors provides functionality for unsupervised and supervised neighbors-based learning methods\n",
    "* scikit-learn implements nearest neighbors classifier called KNeighborsClassifier. This performs learning based on the  nearest neighbors of each query point, where  is an integer value specified by the user.\n",
    "* Initially we take k value of 5"
   ]
  },
  {
   "cell_type": "code",
   "execution_count": 82,
   "metadata": {},
   "outputs": [
    {
     "data": {
      "text/plain": [
       "KNeighborsClassifier(algorithm='auto', leaf_size=30, metric='minkowski',\n",
       "           metric_params=None, n_jobs=None, n_neighbors=5, p=2,\n",
       "           weights='uniform')"
      ]
     },
     "execution_count": 82,
     "metadata": {},
     "output_type": "execute_result"
    }
   ],
   "source": [
    "#fitting training data to the model\n",
    "from sklearn.neighbors import KNeighborsClassifier  \n",
    "classifier = KNeighborsClassifier(n_neighbors=5)  \n",
    "classifier.fit(X_train, y_train)"
   ]
  },
  {
   "cell_type": "markdown",
   "metadata": {},
   "source": [
    "### STEP 4: Performance of KNN ALgorithm:\n",
    "To measure the performance or accuracy of the model we use the following:\n",
    "\n",
    "**Confusion Matrix** A confusion matrix is a table that is often used to describe the performance of a classification model on a set of test data for which the true values are known. \n",
    "\n",
    "* true positives (TP): Correctly predicted values.\n",
    "* true negatives (TN): Correctly rejected the prediction.\n",
    "* false positives (FP): We predicted yes, but correct answer is no.\n",
    "* false negatives (FN): We predicted no, but correct answer is yes.\n",
    "\n",
    "**Accuracy** The ratio of correctly predicted values to the total numer of samples in the dataset.\n",
    "\n",
    "**F1 score** 2 * Precision * Recall/(Precision+Recall)\n",
    "\n",
    "When to use which metric?\n",
    "\n",
    "* Accuracy works well for balanced data and f1 score works well for imbalanced data.\n",
    "\n",
    "* Consider a confusion matrix, if the sum of all rows is equal then the data is balanced data otherwise imbalanced data.\n",
    "* If we see the support column of the output we can observe that the data is imbalanced data."
   ]
  },
  {
   "cell_type": "code",
   "execution_count": 83,
   "metadata": {},
   "outputs": [
    {
     "name": "stdout",
     "output_type": "stream",
     "text": [
      "0.4166666666666667\n",
      "[[14  3  0  0  0  0]\n",
      " [ 4 15  3  0  0  0]\n",
      " [ 0 10 23  2  0  0]\n",
      " [ 0  1 11 11  0  0]\n",
      " [ 0  0  4  5  4  0]\n",
      " [ 0  0  1  5  1  3]]\n",
      "              precision    recall  f1-score   support\n",
      "\n",
      "           0       0.78      0.82      0.80        17\n",
      "           1       0.52      0.68      0.59        22\n",
      "           2       0.55      0.66      0.60        35\n",
      "           3       0.48      0.48      0.48        23\n",
      "           4       0.80      0.31      0.44        13\n",
      "           5       1.00      0.30      0.46        10\n",
      "\n",
      "   micro avg       0.58      0.58      0.58       120\n",
      "   macro avg       0.69      0.54      0.56       120\n",
      "weighted avg       0.63      0.58      0.57       120\n",
      "\n"
     ]
    }
   ],
   "source": [
    "#testing the model \n",
    "from sklearn.metrics import classification_report, confusion_matrix  \n",
    "y_pred = classifier.predict(X_test)  \n",
    "print(np.mean(y_pred != y_test))\n",
    "print(confusion_matrix(y_test, y_pred))  \n",
    "print(classification_report(y_test, y_pred)) \n"
   ]
  },
  {
   "cell_type": "markdown",
   "metadata": {},
   "source": [
    "### STEP 5: Choosing the optimal value for K\n",
    "This is the challenging part of the KNN algorithm.This can best be done by first inspecting the data. \n",
    "\n",
    "**Choosing high K value**: Choosing a large K value reduces variance created by nosiy data.But on the other hand it can bias the learner. There is a risk of ignoring small and yet important patterns.\n",
    "\n",
    "**Choosing low K value**: Taking a small K value allows outliers to influence classification.For example, suppose\n",
    "that some of the training examples were accidentally mislabeled. Any unlabeled example that happens to be nearest to the incorrectly labeled neighbor will be predicted to have the incorrect class, even if the other nine nearest neighbors would have voted differently.\n",
    "\n",
    "**So the K value must be in between these extremes.**\n",
    "\n",
    "* A simple approach to select k is set k=sqrt(n) where n is the number of samples in training dataset.\n",
    "* Cross-validation is another technique to find k value.\n"
   ]
  },
  {
   "cell_type": "markdown",
   "metadata": {},
   "source": [
    "#### As our training data includes 280 instances, we might try k = 17, an odd number roughly equal to the square root of 280."
   ]
  },
  {
   "cell_type": "code",
   "execution_count": 84,
   "metadata": {},
   "outputs": [
    {
     "name": "stdout",
     "output_type": "stream",
     "text": [
      "0.375\n",
      "[[13  4  0  0  0  0]\n",
      " [ 4 16  2  0  0  0]\n",
      " [ 0  9 24  2  0  0]\n",
      " [ 0  2  9 12  0  0]\n",
      " [ 0  0  4  3  6  0]\n",
      " [ 0  0  1  5  0  4]]\n",
      "              precision    recall  f1-score   support\n",
      "\n",
      "           0       0.76      0.76      0.76        17\n",
      "           1       0.52      0.73      0.60        22\n",
      "           2       0.60      0.69      0.64        35\n",
      "           3       0.55      0.52      0.53        23\n",
      "           4       1.00      0.46      0.63        13\n",
      "           5       1.00      0.40      0.57        10\n",
      "\n",
      "   micro avg       0.62      0.62      0.62       120\n",
      "   macro avg       0.74      0.59      0.62       120\n",
      "weighted avg       0.67      0.62      0.62       120\n",
      "\n"
     ]
    }
   ],
   "source": [
    "#fitting training data to the model\n",
    "from sklearn.neighbors import KNeighborsClassifier  \n",
    "classifier = KNeighborsClassifier(n_neighbors=17)  \n",
    "classifier.fit(X_train, y_train)\n",
    "\n",
    "#testing the model \n",
    "from sklearn.metrics import classification_report, confusion_matrix  \n",
    "y_pred = classifier.predict(X_test)  \n",
    "print(np.mean(y_pred != y_test))\n",
    "print(confusion_matrix(y_test, y_pred))  \n",
    "print(classification_report(y_test, y_pred))"
   ]
  },
  {
   "cell_type": "markdown",
   "metadata": {},
   "source": [
    "**We can observe that the accuracy has increased when compared to k=5**"
   ]
  },
  {
   "cell_type": "markdown",
   "metadata": {},
   "source": [
    "#### We test for different values of K from 1-40 to find the optimal value. Wherever the error rate is least we use that value as our optimal k value."
   ]
  },
  {
   "cell_type": "code",
   "execution_count": 85,
   "metadata": {},
   "outputs": [],
   "source": [
    "error = []\n",
    "\n",
    "# Calculating error for K values between 1 and 40\n",
    "for i in range(1, 40):  \n",
    "    knn = KNeighborsClassifier(n_neighbors=i)\n",
    "    knn.fit(X_train, y_train)\n",
    "    pred_i = knn.predict(X_test)\n",
    "    error.append(np.mean(pred_i != y_test))"
   ]
  },
  {
   "cell_type": "code",
   "execution_count": 86,
   "metadata": {},
   "outputs": [
    {
     "data": {
      "text/plain": [
       "Text(0, 0.5, 'Mean Error')"
      ]
     },
     "execution_count": 86,
     "metadata": {},
     "output_type": "execute_result"
    },
    {
     "data": {
      "image/png": "[encoded data removed]",
      "text/plain": [
       "<Figure size 864x432 with 1 Axes>"
      ]
     },
     "metadata": {
      "needs_background": "light"
     },
     "output_type": "display_data"
    }
   ],
   "source": [
    "plt.figure(figsize=(12, 6))  \n",
    "plt.plot(range(1, 40), error, color='red', linestyle='dashed', marker='o',  \n",
    "         markerfacecolor='blue', markersize=10)\n",
    "plt.title('Error Rate K Value')  \n",
    "plt.xlabel('K Value')  \n",
    "plt.ylabel('Mean Error') \n"
   ]
  },
  {
   "cell_type": "code",
   "execution_count": 87,
   "metadata": {},
   "outputs": [],
   "source": [
    "plt.show()"
   ]
  },
  {
   "cell_type": "markdown",
   "metadata": {},
   "source": [
    "#### The least error rate is at 25 so we use this value for checking the accuracy of our model. Since the ka value is larger than the previous k value we might get more accurate results."
   ]
  },
  {
   "cell_type": "markdown",
   "metadata": {},
   "source": [
    "### STEP 6: Fit the optimal K"
   ]
  },
  {
   "cell_type": "code",
   "execution_count": 90,
   "metadata": {},
   "outputs": [
    {
     "data": {
      "text/plain": [
       "KNeighborsClassifier(algorithm='auto', leaf_size=30, metric='minkowski',\n",
       "           metric_params=None, n_jobs=None, n_neighbors=25, p=2,\n",
       "           weights='uniform')"
      ]
     },
     "execution_count": 90,
     "metadata": {},
     "output_type": "execute_result"
    }
   ],
   "source": [
    "classifier = KNeighborsClassifier(n_neighbors=25)  \n",
    "classifier.fit(X_train, y_train)  "
   ]
  },
  {
   "cell_type": "code",
   "execution_count": 91,
   "metadata": {},
   "outputs": [
    {
     "name": "stdout",
     "output_type": "stream",
     "text": [
      "[[14  3  0  0  0  0]\n",
      " [ 3 16  3  0  0  0]\n",
      " [ 0  7 25  3  0  0]\n",
      " [ 0  1  8 14  0  0]\n",
      " [ 0  0  4  3  6  0]\n",
      " [ 0  0  1  5  0  4]]\n",
      "              precision    recall  f1-score   support\n",
      "\n",
      "           0       0.82      0.82      0.82        17\n",
      "           1       0.59      0.73      0.65        22\n",
      "           2       0.61      0.71      0.66        35\n",
      "           3       0.56      0.61      0.58        23\n",
      "           4       1.00      0.46      0.63        13\n",
      "           5       1.00      0.40      0.57        10\n",
      "\n",
      "   micro avg       0.66      0.66      0.66       120\n",
      "   macro avg       0.76      0.62      0.65       120\n",
      "weighted avg       0.70      0.66      0.66       120\n",
      "\n"
     ]
    }
   ],
   "source": [
    "y_pred = classifier.predict(X_test)  \n",
    "print(confusion_matrix(y_test, y_pred))  \n",
    "print(classification_report(y_test, y_pred))"
   ]
  },
  {
   "cell_type": "markdown",
   "metadata": {},
   "source": [
    "### Conclusions:\n",
    "* **Since the data is imbalanced we will consider the f1 score to test the accuracy of our model.**\n",
    "\n",
    "* **The average weighted f1 score when k=5 we observe an f1 score of 0.57.**\n",
    "\n",
    "* **Next we increased our k value to be square root of the number of instances in pur training data ie., k=17. Now the f1 score is 0.62. We observe an increase in the accuracy with the increase of k value.**\n",
    "\n",
    "* **Later, we took a set of values from 1-40 to find the optimal k value and we found out that the optimal k value is 25.** \n",
    "\n",
    "* **Here the f1 score is 0.66 which is more when compared to k=17.**\n",
    "\n",
    "* **May be we can increase the range from 40 to a higher number to get even more accurate results.**\n",
    "\n",
    "* **From these above values we can say that based on the GRE Score,TOEFL Score LOR and Sop rating we can predict the chances of a candidate being admitted to a University using KNN algorithm**"
   ]
  },
  {
   "cell_type": "code",
   "execution_count": null,
   "metadata": {},
   "outputs": [],
   "source": []
  }
 ],
 "metadata": {
  "kernelspec": {
   "display_name": "Python 3",
   "language": "python",
   "name": "python3"
  },
  "language_info": {
   "codemirror_mode": {
    "name": "ipython",
    "version": 3
   },
   "file_extension": ".py",
   "mimetype": "text/x-python",
   "name": "python",
   "nbconvert_exporter": "python",
   "pygments_lexer": "ipython3",
   "version": "3.7.1"
  }
 },
 "nbformat": 4,
 "nbformat_minor": 2
}
